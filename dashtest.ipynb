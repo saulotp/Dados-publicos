{
 "cells": [
  {
   "cell_type": "code",
   "execution_count": 1,
   "metadata": {},
   "outputs": [
    {
     "data": {
      "text/html": [
       "<div>\n",
       "<style scoped>\n",
       "    .dataframe tbody tr th:only-of-type {\n",
       "        vertical-align: middle;\n",
       "    }\n",
       "\n",
       "    .dataframe tbody tr th {\n",
       "        vertical-align: top;\n",
       "    }\n",
       "\n",
       "    .dataframe thead th {\n",
       "        text-align: right;\n",
       "    }\n",
       "</style>\n",
       "<table border=\"1\" class=\"dataframe\">\n",
       "  <thead>\n",
       "    <tr style=\"text-align: right;\">\n",
       "      <th></th>\n",
       "      <th>tipoDespesa</th>\n",
       "      <th>valorDocumento</th>\n",
       "    </tr>\n",
       "  </thead>\n",
       "  <tbody>\n",
       "    <tr>\n",
       "      <th>2</th>\n",
       "      <td>DIVULGAÇÃO DA ATIVIDADE PARLAMENTAR.</td>\n",
       "      <td>302765.00</td>\n",
       "    </tr>\n",
       "    <tr>\n",
       "      <th>5</th>\n",
       "      <td>LOCAÇÃO OU FRETAMENTO DE VEÍCULOS AUTOMOTORES</td>\n",
       "      <td>292700.00</td>\n",
       "    </tr>\n",
       "    <tr>\n",
       "      <th>1</th>\n",
       "      <td>CONSULTORIAS, PESQUISAS E TRABALHOS TÉCNICOS.</td>\n",
       "      <td>161000.00</td>\n",
       "    </tr>\n",
       "    <tr>\n",
       "      <th>8</th>\n",
       "      <td>PASSAGEM AÉREA - SIGEPA</td>\n",
       "      <td>88023.89</td>\n",
       "    </tr>\n",
       "    <tr>\n",
       "      <th>0</th>\n",
       "      <td>COMBUSTÍVEIS E LUBRIFICANTES.</td>\n",
       "      <td>80967.27</td>\n",
       "    </tr>\n",
       "    <tr>\n",
       "      <th>6</th>\n",
       "      <td>MANUTENÇÃO DE ESCRITÓRIO DE APOIO À ATIVIDADE ...</td>\n",
       "      <td>61397.53</td>\n",
       "    </tr>\n",
       "    <tr>\n",
       "      <th>7</th>\n",
       "      <td>PASSAGEM AÉREA - REEMBOLSO</td>\n",
       "      <td>3351.68</td>\n",
       "    </tr>\n",
       "    <tr>\n",
       "      <th>4</th>\n",
       "      <td>HOSPEDAGEM ,EXCETO DO PARLAMENTAR NO DISTRITO ...</td>\n",
       "      <td>2250.15</td>\n",
       "    </tr>\n",
       "    <tr>\n",
       "      <th>10</th>\n",
       "      <td>SERVIÇOS POSTAIS</td>\n",
       "      <td>2131.76</td>\n",
       "    </tr>\n",
       "    <tr>\n",
       "      <th>9</th>\n",
       "      <td>SERVIÇO DE TÁXI, PEDÁGIO E ESTACIONAMENTO</td>\n",
       "      <td>1179.00</td>\n",
       "    </tr>\n",
       "  </tbody>\n",
       "</table>\n",
       "</div>"
      ],
      "text/plain": [
       "                                          tipoDespesa  valorDocumento\n",
       "2                DIVULGAÇÃO DA ATIVIDADE PARLAMENTAR.       302765.00\n",
       "5       LOCAÇÃO OU FRETAMENTO DE VEÍCULOS AUTOMOTORES       292700.00\n",
       "1       CONSULTORIAS, PESQUISAS E TRABALHOS TÉCNICOS.       161000.00\n",
       "8                             PASSAGEM AÉREA - SIGEPA        88023.89\n",
       "0                       COMBUSTÍVEIS E LUBRIFICANTES.        80967.27\n",
       "6   MANUTENÇÃO DE ESCRITÓRIO DE APOIO À ATIVIDADE ...        61397.53\n",
       "7                          PASSAGEM AÉREA - REEMBOLSO         3351.68\n",
       "4   HOSPEDAGEM ,EXCETO DO PARLAMENTAR NO DISTRITO ...         2250.15\n",
       "10                                   SERVIÇOS POSTAIS         2131.76\n",
       "9           SERVIÇO DE TÁXI, PEDÁGIO E ESTACIONAMENTO         1179.00"
      ]
     },
     "execution_count": 1,
     "metadata": {},
     "output_type": "execute_result"
    }
   ],
   "source": [
    "from dash import Dash, html, dcc\n",
    "import plotly.express as px\n",
    "import pandas as pd\n",
    "import matplotlib.pyplot as plt\n",
    "import plotly.io as pio\n",
    "pio.renderers.default = \"notebook_connected\"\n",
    "\n",
    "df = pd.read_csv('db_publicdata.csv')\n",
    "df = df.loc[df['nome'] == 'Abílio Santana']\n",
    "df = df[[ 'valorDocumento', 'tipoDespesa']].groupby('tipoDespesa').sum().reset_index()\n",
    "df = df.sort_values(by='valorDocumento', ascending=False)\n",
    "df = df.head(10)\n",
    "df\n",
    "\n",
    "\n",
    "\n",
    "\n",
    "\n",
    "\n",
    "#fig = px.bar(df, x=\"Fruit\", y=\"Amount\", color=\"City\", barmode=\"group\")"
   ]
  },
  {
   "cell_type": "code",
   "execution_count": 2,
   "metadata": {},
   "outputs": [
    {
     "data": {
      "text/html": [
       "        <script type=\"text/javascript\">\n",
       "        window.PlotlyConfig = {MathJaxConfig: 'local'};\n",
       "        if (window.MathJax) {MathJax.Hub.Config({SVG: {font: \"STIX-Web\"}});}\n",
       "        if (typeof require !== 'undefined') {\n",
       "        require.undef(\"plotly\");\n",
       "        requirejs.config({\n",
       "            paths: {\n",
       "                'plotly': ['https://cdn.plot.ly/plotly-2.9.0.min']\n",
       "            }\n",
       "        });\n",
       "        require(['plotly'], function(Plotly) {\n",
       "            window._Plotly = Plotly;\n",
       "        });\n",
       "        }\n",
       "        </script>\n",
       "        "
      ]
     },
     "metadata": {},
     "output_type": "display_data"
    },
    {
     "data": {
      "text/html": [
       "<div>                            <div id=\"9c88a2e0-4a18-4033-92e4-06c15ffcaf93\" class=\"plotly-graph-div\" style=\"height:525px; width:100%;\"></div>            <script type=\"text/javascript\">                require([\"plotly\"], function(Plotly) {                    window.PLOTLYENV=window.PLOTLYENV || {};                                    if (document.getElementById(\"9c88a2e0-4a18-4033-92e4-06c15ffcaf93\")) {                    Plotly.newPlot(                        \"9c88a2e0-4a18-4033-92e4-06c15ffcaf93\",                        [{\"alignmentgroup\":\"True\",\"hovertemplate\":\"tipoDespesa=%{x}<br>valorDocumento=%{y}<extra></extra>\",\"legendgroup\":\"\",\"marker\":{\"color\":\"#636efa\",\"pattern\":{\"shape\":\"\"}},\"name\":\"\",\"offsetgroup\":\"\",\"orientation\":\"v\",\"showlegend\":false,\"textposition\":\"auto\",\"texttemplate\":\"%{y}\",\"x\":[\"DIVULGA\\u00c7\\u00c3O DA ATIVIDADE PARLAMENTAR.\",\"LOCA\\u00c7\\u00c3O OU FRETAMENTO DE VE\\u00cdCULOS AUTOMOTORES\",\"CONSULTORIAS, PESQUISAS E TRABALHOS T\\u00c9CNICOS.\",\"PASSAGEM A\\u00c9REA - SIGEPA\",\"COMBUST\\u00cdVEIS E LUBRIFICANTES.\",\"MANUTEN\\u00c7\\u00c3O DE ESCRIT\\u00d3RIO DE APOIO \\u00c0 ATIVIDADE PARLAMENTAR\",\"PASSAGEM A\\u00c9REA - REEMBOLSO\",\"HOSPEDAGEM ,EXCETO DO PARLAMENTAR NO DISTRITO FEDERAL.\",\"SERVI\\u00c7OS POSTAIS\",\"SERVI\\u00c7O DE T\\u00c1XI, PED\\u00c1GIO E ESTACIONAMENTO\"],\"xaxis\":\"x\",\"y\":[302765.0,292700.0,161000.0,88023.89,80967.27,61397.53,3351.68,2250.15,2131.76,1179.0],\"yaxis\":\"y\",\"type\":\"bar\"}],                        {\"template\":{\"data\":{\"bar\":[{\"error_x\":{\"color\":\"#2a3f5f\"},\"error_y\":{\"color\":\"#2a3f5f\"},\"marker\":{\"line\":{\"color\":\"#E5ECF6\",\"width\":0.5},\"pattern\":{\"fillmode\":\"overlay\",\"size\":10,\"solidity\":0.2}},\"type\":\"bar\"}],\"barpolar\":[{\"marker\":{\"line\":{\"color\":\"#E5ECF6\",\"width\":0.5},\"pattern\":{\"fillmode\":\"overlay\",\"size\":10,\"solidity\":0.2}},\"type\":\"barpolar\"}],\"carpet\":[{\"aaxis\":{\"endlinecolor\":\"#2a3f5f\",\"gridcolor\":\"white\",\"linecolor\":\"white\",\"minorgridcolor\":\"white\",\"startlinecolor\":\"#2a3f5f\"},\"baxis\":{\"endlinecolor\":\"#2a3f5f\",\"gridcolor\":\"white\",\"linecolor\":\"white\",\"minorgridcolor\":\"white\",\"startlinecolor\":\"#2a3f5f\"},\"type\":\"carpet\"}],\"choropleth\":[{\"colorbar\":{\"outlinewidth\":0,\"ticks\":\"\"},\"type\":\"choropleth\"}],\"contour\":[{\"colorbar\":{\"outlinewidth\":0,\"ticks\":\"\"},\"colorscale\":[[0.0,\"#0d0887\"],[0.1111111111111111,\"#46039f\"],[0.2222222222222222,\"#7201a8\"],[0.3333333333333333,\"#9c179e\"],[0.4444444444444444,\"#bd3786\"],[0.5555555555555556,\"#d8576b\"],[0.6666666666666666,\"#ed7953\"],[0.7777777777777778,\"#fb9f3a\"],[0.8888888888888888,\"#fdca26\"],[1.0,\"#f0f921\"]],\"type\":\"contour\"}],\"contourcarpet\":[{\"colorbar\":{\"outlinewidth\":0,\"ticks\":\"\"},\"type\":\"contourcarpet\"}],\"heatmap\":[{\"colorbar\":{\"outlinewidth\":0,\"ticks\":\"\"},\"colorscale\":[[0.0,\"#0d0887\"],[0.1111111111111111,\"#46039f\"],[0.2222222222222222,\"#7201a8\"],[0.3333333333333333,\"#9c179e\"],[0.4444444444444444,\"#bd3786\"],[0.5555555555555556,\"#d8576b\"],[0.6666666666666666,\"#ed7953\"],[0.7777777777777778,\"#fb9f3a\"],[0.8888888888888888,\"#fdca26\"],[1.0,\"#f0f921\"]],\"type\":\"heatmap\"}],\"heatmapgl\":[{\"colorbar\":{\"outlinewidth\":0,\"ticks\":\"\"},\"colorscale\":[[0.0,\"#0d0887\"],[0.1111111111111111,\"#46039f\"],[0.2222222222222222,\"#7201a8\"],[0.3333333333333333,\"#9c179e\"],[0.4444444444444444,\"#bd3786\"],[0.5555555555555556,\"#d8576b\"],[0.6666666666666666,\"#ed7953\"],[0.7777777777777778,\"#fb9f3a\"],[0.8888888888888888,\"#fdca26\"],[1.0,\"#f0f921\"]],\"type\":\"heatmapgl\"}],\"histogram\":[{\"marker\":{\"pattern\":{\"fillmode\":\"overlay\",\"size\":10,\"solidity\":0.2}},\"type\":\"histogram\"}],\"histogram2d\":[{\"colorbar\":{\"outlinewidth\":0,\"ticks\":\"\"},\"colorscale\":[[0.0,\"#0d0887\"],[0.1111111111111111,\"#46039f\"],[0.2222222222222222,\"#7201a8\"],[0.3333333333333333,\"#9c179e\"],[0.4444444444444444,\"#bd3786\"],[0.5555555555555556,\"#d8576b\"],[0.6666666666666666,\"#ed7953\"],[0.7777777777777778,\"#fb9f3a\"],[0.8888888888888888,\"#fdca26\"],[1.0,\"#f0f921\"]],\"type\":\"histogram2d\"}],\"histogram2dcontour\":[{\"colorbar\":{\"outlinewidth\":0,\"ticks\":\"\"},\"colorscale\":[[0.0,\"#0d0887\"],[0.1111111111111111,\"#46039f\"],[0.2222222222222222,\"#7201a8\"],[0.3333333333333333,\"#9c179e\"],[0.4444444444444444,\"#bd3786\"],[0.5555555555555556,\"#d8576b\"],[0.6666666666666666,\"#ed7953\"],[0.7777777777777778,\"#fb9f3a\"],[0.8888888888888888,\"#fdca26\"],[1.0,\"#f0f921\"]],\"type\":\"histogram2dcontour\"}],\"mesh3d\":[{\"colorbar\":{\"outlinewidth\":0,\"ticks\":\"\"},\"type\":\"mesh3d\"}],\"parcoords\":[{\"line\":{\"colorbar\":{\"outlinewidth\":0,\"ticks\":\"\"}},\"type\":\"parcoords\"}],\"pie\":[{\"automargin\":true,\"type\":\"pie\"}],\"scatter\":[{\"marker\":{\"colorbar\":{\"outlinewidth\":0,\"ticks\":\"\"}},\"type\":\"scatter\"}],\"scatter3d\":[{\"line\":{\"colorbar\":{\"outlinewidth\":0,\"ticks\":\"\"}},\"marker\":{\"colorbar\":{\"outlinewidth\":0,\"ticks\":\"\"}},\"type\":\"scatter3d\"}],\"scattercarpet\":[{\"marker\":{\"colorbar\":{\"outlinewidth\":0,\"ticks\":\"\"}},\"type\":\"scattercarpet\"}],\"scattergeo\":[{\"marker\":{\"colorbar\":{\"outlinewidth\":0,\"ticks\":\"\"}},\"type\":\"scattergeo\"}],\"scattergl\":[{\"marker\":{\"colorbar\":{\"outlinewidth\":0,\"ticks\":\"\"}},\"type\":\"scattergl\"}],\"scattermapbox\":[{\"marker\":{\"colorbar\":{\"outlinewidth\":0,\"ticks\":\"\"}},\"type\":\"scattermapbox\"}],\"scatterpolar\":[{\"marker\":{\"colorbar\":{\"outlinewidth\":0,\"ticks\":\"\"}},\"type\":\"scatterpolar\"}],\"scatterpolargl\":[{\"marker\":{\"colorbar\":{\"outlinewidth\":0,\"ticks\":\"\"}},\"type\":\"scatterpolargl\"}],\"scatterternary\":[{\"marker\":{\"colorbar\":{\"outlinewidth\":0,\"ticks\":\"\"}},\"type\":\"scatterternary\"}],\"surface\":[{\"colorbar\":{\"outlinewidth\":0,\"ticks\":\"\"},\"colorscale\":[[0.0,\"#0d0887\"],[0.1111111111111111,\"#46039f\"],[0.2222222222222222,\"#7201a8\"],[0.3333333333333333,\"#9c179e\"],[0.4444444444444444,\"#bd3786\"],[0.5555555555555556,\"#d8576b\"],[0.6666666666666666,\"#ed7953\"],[0.7777777777777778,\"#fb9f3a\"],[0.8888888888888888,\"#fdca26\"],[1.0,\"#f0f921\"]],\"type\":\"surface\"}],\"table\":[{\"cells\":{\"fill\":{\"color\":\"#EBF0F8\"},\"line\":{\"color\":\"white\"}},\"header\":{\"fill\":{\"color\":\"#C8D4E3\"},\"line\":{\"color\":\"white\"}},\"type\":\"table\"}]},\"layout\":{\"annotationdefaults\":{\"arrowcolor\":\"#2a3f5f\",\"arrowhead\":0,\"arrowwidth\":1},\"autotypenumbers\":\"strict\",\"coloraxis\":{\"colorbar\":{\"outlinewidth\":0,\"ticks\":\"\"}},\"colorscale\":{\"diverging\":[[0,\"#8e0152\"],[0.1,\"#c51b7d\"],[0.2,\"#de77ae\"],[0.3,\"#f1b6da\"],[0.4,\"#fde0ef\"],[0.5,\"#f7f7f7\"],[0.6,\"#e6f5d0\"],[0.7,\"#b8e186\"],[0.8,\"#7fbc41\"],[0.9,\"#4d9221\"],[1,\"#276419\"]],\"sequential\":[[0.0,\"#0d0887\"],[0.1111111111111111,\"#46039f\"],[0.2222222222222222,\"#7201a8\"],[0.3333333333333333,\"#9c179e\"],[0.4444444444444444,\"#bd3786\"],[0.5555555555555556,\"#d8576b\"],[0.6666666666666666,\"#ed7953\"],[0.7777777777777778,\"#fb9f3a\"],[0.8888888888888888,\"#fdca26\"],[1.0,\"#f0f921\"]],\"sequentialminus\":[[0.0,\"#0d0887\"],[0.1111111111111111,\"#46039f\"],[0.2222222222222222,\"#7201a8\"],[0.3333333333333333,\"#9c179e\"],[0.4444444444444444,\"#bd3786\"],[0.5555555555555556,\"#d8576b\"],[0.6666666666666666,\"#ed7953\"],[0.7777777777777778,\"#fb9f3a\"],[0.8888888888888888,\"#fdca26\"],[1.0,\"#f0f921\"]]},\"colorway\":[\"#636efa\",\"#EF553B\",\"#00cc96\",\"#ab63fa\",\"#FFA15A\",\"#19d3f3\",\"#FF6692\",\"#B6E880\",\"#FF97FF\",\"#FECB52\"],\"font\":{\"color\":\"#2a3f5f\"},\"geo\":{\"bgcolor\":\"white\",\"lakecolor\":\"white\",\"landcolor\":\"#E5ECF6\",\"showlakes\":true,\"showland\":true,\"subunitcolor\":\"white\"},\"hoverlabel\":{\"align\":\"left\"},\"hovermode\":\"closest\",\"mapbox\":{\"style\":\"light\"},\"paper_bgcolor\":\"white\",\"plot_bgcolor\":\"#E5ECF6\",\"polar\":{\"angularaxis\":{\"gridcolor\":\"white\",\"linecolor\":\"white\",\"ticks\":\"\"},\"bgcolor\":\"#E5ECF6\",\"radialaxis\":{\"gridcolor\":\"white\",\"linecolor\":\"white\",\"ticks\":\"\"}},\"scene\":{\"xaxis\":{\"backgroundcolor\":\"#E5ECF6\",\"gridcolor\":\"white\",\"gridwidth\":2,\"linecolor\":\"white\",\"showbackground\":true,\"ticks\":\"\",\"zerolinecolor\":\"white\"},\"yaxis\":{\"backgroundcolor\":\"#E5ECF6\",\"gridcolor\":\"white\",\"gridwidth\":2,\"linecolor\":\"white\",\"showbackground\":true,\"ticks\":\"\",\"zerolinecolor\":\"white\"},\"zaxis\":{\"backgroundcolor\":\"#E5ECF6\",\"gridcolor\":\"white\",\"gridwidth\":2,\"linecolor\":\"white\",\"showbackground\":true,\"ticks\":\"\",\"zerolinecolor\":\"white\"}},\"shapedefaults\":{\"line\":{\"color\":\"#2a3f5f\"}},\"ternary\":{\"aaxis\":{\"gridcolor\":\"white\",\"linecolor\":\"white\",\"ticks\":\"\"},\"baxis\":{\"gridcolor\":\"white\",\"linecolor\":\"white\",\"ticks\":\"\"},\"bgcolor\":\"#E5ECF6\",\"caxis\":{\"gridcolor\":\"white\",\"linecolor\":\"white\",\"ticks\":\"\"}},\"title\":{\"x\":0.05},\"xaxis\":{\"automargin\":true,\"gridcolor\":\"white\",\"linecolor\":\"white\",\"ticks\":\"\",\"title\":{\"standoff\":15},\"zerolinecolor\":\"white\",\"zerolinewidth\":2},\"yaxis\":{\"automargin\":true,\"gridcolor\":\"white\",\"linecolor\":\"white\",\"ticks\":\"\",\"title\":{\"standoff\":15},\"zerolinecolor\":\"white\",\"zerolinewidth\":2}}},\"xaxis\":{\"anchor\":\"y\",\"domain\":[0.0,1.0],\"title\":{\"text\":\"tipoDespesa\"}},\"yaxis\":{\"anchor\":\"x\",\"domain\":[0.0,1.0],\"title\":{\"text\":\"valorDocumento\"},\"visible\":false,\"showticklabels\":false},\"legend\":{\"tracegroupgap\":0},\"margin\":{\"t\":60},\"barmode\":\"relative\"},                        {\"responsive\": true}                    ).then(function(){\n",
       "                            \n",
       "var gd = document.getElementById('9c88a2e0-4a18-4033-92e4-06c15ffcaf93');\n",
       "var x = new MutationObserver(function (mutations, observer) {{\n",
       "        var display = window.getComputedStyle(gd).display;\n",
       "        if (!display || display === 'none') {{\n",
       "            console.log([gd, 'removed!']);\n",
       "            Plotly.purge(gd);\n",
       "            observer.disconnect();\n",
       "        }}\n",
       "}});\n",
       "\n",
       "// Listen for the removal of the full notebook cells\n",
       "var notebookContainer = gd.closest('#notebook-container');\n",
       "if (notebookContainer) {{\n",
       "    x.observe(notebookContainer, {childList: true});\n",
       "}}\n",
       "\n",
       "// Listen for the clearing of the current output cell\n",
       "var outputEl = gd.closest('.output');\n",
       "if (outputEl) {{\n",
       "    x.observe(outputEl, {childList: true});\n",
       "}}\n",
       "\n",
       "                        })                };                });            </script>        </div>"
      ]
     },
     "metadata": {},
     "output_type": "display_data"
    }
   ],
   "source": [
    "fig = px.bar(df, x=\"tipoDespesa\", y=\"valorDocumento\", text_auto=True)\n",
    "fig.update_yaxes(visible=False, showticklabels=False)\n",
    "fig"
   ]
  },
  {
   "cell_type": "code",
   "execution_count": null,
   "metadata": {},
   "outputs": [],
   "source": [
    "from dash import Dash, html, dcc\n",
    "import plotly.express as px\n",
    "import pandas as pd\n",
    "import matplotlib.pyplot as plt\n",
    "import plotly.io as pio\n",
    "pio.renderers.default = \"notebook_connected\"\n",
    "\n",
    "\n",
    "\n",
    "\n",
    "app = Dash(__name__)\n",
    "\n",
    "colors = {\n",
    "    'background': '#111111',\n",
    "    'text': '#7FDBFF'\n",
    "}\n",
    "\n",
    "# assume you have a \"long-form\" data frame\n",
    "# see https://plotly.com/python/px-arguments/ for more options\n",
    "df = pd.read_csv('db_publicdata.csv')\n",
    "df = df.loc[df['nome'] == 'Abílio Santana']\n",
    "df = df[[ 'valorDocumento', 'tipoDespesa']].groupby('tipoDespesa').sum().reset_index()\n",
    "df = df.sort_values(by='valorDocumento', ascending=False)\n",
    "df = df.head(10)\n",
    "\n",
    "\n",
    "\n",
    "fig = px.bar(df, x=\"tipoDespesa\", y=\"valorDocumento\", text_auto=True)\n",
    "fig.update_yaxes(visible=False, showticklabels=False)\n",
    "\n",
    "fig.update_layout(\n",
    "    plot_bgcolor=colors['background'],\n",
    "    paper_bgcolor=colors['background'],\n",
    "    font_color=colors['text']\n",
    ")\n",
    "\n",
    "app.layout = html.Div(style={'backgroundColor': colors['background']}, children=[\n",
    "    html.H1(\n",
    "        children='Hello Dash',\n",
    "        style={\n",
    "            'textAlign': 'center',\n",
    "            'color': colors['text']\n",
    "        }\n",
    "    ),\n",
    "\n",
    "    html.Div(children='Dash: A web application framework for your data.', style={\n",
    "        'textAlign': 'center',\n",
    "        'color': colors['text']\n",
    "    }),\n",
    "\n",
    "    dcc.Graph(\n",
    "        id='example-graph-2',\n",
    "        figure=fig\n",
    "    )\n",
    "])\n",
    "\n",
    "if __name__ == '__main__':\n",
    "    app.run_server(debug=True)"
   ]
  },
  {
   "cell_type": "code",
   "execution_count": 29,
   "metadata": {},
   "outputs": [
    {
     "name": "stderr",
     "output_type": "stream",
     "text": [
      "WARNING:param.main: text option not found for bar plot; similar options include: []\n"
     ]
    },
    {
     "data": {},
     "metadata": {},
     "output_type": "display_data"
    },
    {
     "data": {
      "application/vnd.holoviews_exec.v0+json": "",
      "text/html": [
       "<div id='4073'>\n",
       "\n",
       "\n",
       "\n",
       "\n",
       "\n",
       "  <div class=\"bk-root\" id=\"2a17bb09-e295-452f-8681-6275989a062b\" data-root-id=\"4073\"></div>\n",
       "</div>\n",
       "<script type=\"application/javascript\">(function(root) {\n",
       "  function embed_document(root) {\n",
       "    var docs_json = {\"8f844240-5f50-4cc8-bec2-982c3be00f0c\":{\"defs\":[{\"extends\":null,\"module\":null,\"name\":\"ReactiveHTML1\",\"overrides\":[],\"properties\":[]},{\"extends\":null,\"module\":null,\"name\":\"FlexBox1\",\"overrides\":[],\"properties\":[{\"default\":\"flex-start\",\"kind\":null,\"name\":\"align_content\"},{\"default\":\"flex-start\",\"kind\":null,\"name\":\"align_items\"},{\"default\":\"row\",\"kind\":null,\"name\":\"flex_direction\"},{\"default\":\"wrap\",\"kind\":null,\"name\":\"flex_wrap\"},{\"default\":\"flex-start\",\"kind\":null,\"name\":\"justify_content\"}]},{\"extends\":null,\"module\":null,\"name\":\"TemplateActions1\",\"overrides\":[],\"properties\":[{\"default\":0,\"kind\":null,\"name\":\"open_modal\"},{\"default\":0,\"kind\":null,\"name\":\"close_modal\"}]},{\"extends\":null,\"module\":null,\"name\":\"MaterialTemplateActions1\",\"overrides\":[],\"properties\":[{\"default\":0,\"kind\":null,\"name\":\"open_modal\"},{\"default\":0,\"kind\":null,\"name\":\"close_modal\"}]}],\"roots\":{\"references\":[{\"attributes\":{},\"id\":\"4088\",\"type\":\"CategoricalTicker\"},{\"attributes\":{\"axis\":{\"id\":\"4087\"},\"coordinates\":null,\"grid_line_color\":null,\"group\":null,\"ticker\":null},\"id\":\"4089\",\"type\":\"Grid\"},{\"attributes\":{},\"id\":\"4122\",\"type\":\"BasicTickFormatter\"},{\"attributes\":{},\"id\":\"4095\",\"type\":\"PanTool\"},{\"attributes\":{\"axis_label\":\"Tipo de despesa\",\"coordinates\":null,\"formatter\":{\"id\":\"4119\"},\"group\":null,\"major_label_policy\":{\"id\":\"4120\"},\"ticker\":{\"id\":\"4088\"}},\"id\":\"4087\",\"type\":\"CategoricalAxis\"},{\"attributes\":{\"axis\":{\"id\":\"4090\"},\"coordinates\":null,\"dimension\":1,\"grid_line_color\":null,\"group\":null,\"ticker\":null},\"id\":\"4093\",\"type\":\"Grid\"},{\"attributes\":{},\"id\":\"4109\",\"type\":\"Selection\"},{\"attributes\":{\"data\":{\"color\":[\"DIVULGA\\u00c7\\u00c3O DA ATIVIDADE PARLAMENTAR.\",\"LOCA\\u00c7\\u00c3O OU FRETAMENTO DE VE\\u00cdCULOS AUTOMOTORES\",\"CONSULTORIAS, PESQUISAS E TRABALHOS T\\u00c9CNICOS.\",\"PASSAGEM A\\u00c9REA - SIGEPA\",\"COMBUST\\u00cdVEIS E LUBRIFICANTES.\",\"MANUTEN\\u00c7\\u00c3O DE ESCRIT\\u00d3RIO DE APOIO \\u00c0 ATIVIDADE PARLAMENTAR\",\"PASSAGEM A\\u00c9REA - REEMBOLSO\",\"HOSPEDAGEM ,EXCETO DO PARLAMENTAR NO DISTRITO FEDERAL.\",\"SERVI\\u00c7OS POSTAIS\",\"SERVI\\u00c7O DE T\\u00c1XI, PED\\u00c1GIO E ESTACIONAMENTO\"],\"tipoDespesa\":[\"DIVULGA\\u00c7\\u00c3O DA ATIVIDADE PARLAMENTAR.\",\"LOCA\\u00c7\\u00c3O OU FRETAMENTO DE VE\\u00cdCULOS AUTOMOTORES\",\"CONSULTORIAS, PESQUISAS E TRABALHOS T\\u00c9CNICOS.\",\"PASSAGEM A\\u00c9REA - SIGEPA\",\"COMBUST\\u00cdVEIS E LUBRIFICANTES.\",\"MANUTEN\\u00c7\\u00c3O DE ESCRIT\\u00d3RIO DE APOIO \\u00c0 ATIVIDADE PARLAMENTAR\",\"PASSAGEM A\\u00c9REA - REEMBOLSO\",\"HOSPEDAGEM ,EXCETO DO PARLAMENTAR NO DISTRITO FEDERAL.\",\"SERVI\\u00c7OS POSTAIS\",\"SERVI\\u00c7O DE T\\u00c1XI, PED\\u00c1GIO E ESTACIONAMENTO\"],\"valorDocumento\":{\"__ndarray__\":\"AAAAALR6EkEAAAAAcN0RQQAAAABApwNB16NwPX599UAfhetRdMTzQFyPwvWw+u1Aj8L1KFwvqkDNzMzMTJShQOxRuB6Fp6BAAAAAAABskkA=\",\"dtype\":\"float64\",\"order\":\"little\",\"shape\":[10]}},\"selected\":{\"id\":\"4109\"},\"selection_policy\":{\"id\":\"4131\"}},\"id\":\"4108\",\"type\":\"ColumnDataSource\"},{\"attributes\":{},\"id\":\"4131\",\"type\":\"UnionRenderers\"},{\"attributes\":{\"axis_label\":\"Valor\",\"coordinates\":null,\"formatter\":{\"id\":\"4122\"},\"group\":null,\"major_label_policy\":{\"id\":\"4123\"},\"ticker\":{\"id\":\"4091\"}},\"id\":\"4090\",\"type\":\"LinearAxis\"},{\"attributes\":{},\"id\":\"4091\",\"type\":\"BasicTicker\"},{\"attributes\":{},\"id\":\"4120\",\"type\":\"AllLabels\"},{\"attributes\":{},\"id\":\"4096\",\"type\":\"WheelZoomTool\"},{\"attributes\":{\"margin\":[5,5,5,5],\"name\":\"HSpacer05460\",\"sizing_mode\":\"stretch_width\"},\"id\":\"4144\",\"type\":\"Spacer\"},{\"attributes\":{},\"id\":\"4094\",\"type\":\"SaveTool\"},{\"attributes\":{\"fill_alpha\":{\"value\":0.1},\"fill_color\":{\"field\":\"color\",\"transform\":{\"id\":\"4107\"}},\"hatch_alpha\":{\"value\":0.1},\"hatch_color\":{\"field\":\"color\",\"transform\":{\"id\":\"4107\"}},\"line_alpha\":{\"value\":0.1},\"top\":{\"field\":\"valorDocumento\"},\"width\":{\"value\":0.8},\"x\":{\"field\":\"tipoDespesa\"}},\"id\":\"4112\",\"type\":\"VBar\"},{\"attributes\":{\"overlay\":{\"id\":\"4099\"}},\"id\":\"4097\",\"type\":\"BoxZoomTool\"},{\"attributes\":{},\"id\":\"4098\",\"type\":\"ResetTool\"},{\"attributes\":{\"fill_color\":{\"field\":\"color\",\"transform\":{\"id\":\"4107\"}},\"hatch_color\":{\"field\":\"color\",\"transform\":{\"id\":\"4107\"}},\"top\":{\"field\":\"valorDocumento\"},\"width\":{\"value\":0.8},\"x\":{\"field\":\"tipoDespesa\"}},\"id\":\"4111\",\"type\":\"VBar\"},{\"attributes\":{\"below\":[{\"id\":\"4087\"}],\"center\":[{\"id\":\"4089\"},{\"id\":\"4093\"}],\"height\":300,\"left\":[{\"id\":\"4090\"}],\"margin\":[5,5,5,5],\"min_border_bottom\":10,\"min_border_left\":10,\"min_border_right\":10,\"min_border_top\":10,\"renderers\":[{\"id\":\"4116\"}],\"sizing_mode\":\"fixed\",\"title\":{\"id\":\"4079\"},\"toolbar\":{\"id\":\"4100\"},\"width\":700,\"x_range\":{\"id\":\"4075\"},\"x_scale\":{\"id\":\"4083\"},\"y_range\":{\"id\":\"4076\"},\"y_scale\":{\"id\":\"4085\"}},\"id\":\"4078\",\"subtype\":\"Figure\",\"type\":\"Plot\"},{\"attributes\":{\"bottom_units\":\"screen\",\"coordinates\":null,\"fill_alpha\":0.5,\"fill_color\":\"lightgrey\",\"group\":null,\"left_units\":\"screen\",\"level\":\"overlay\",\"line_alpha\":1.0,\"line_color\":\"black\",\"line_dash\":[4,4],\"line_width\":2,\"right_units\":\"screen\",\"syncable\":false,\"top_units\":\"screen\"},\"id\":\"4099\",\"type\":\"BoxAnnotation\"},{\"attributes\":{\"coordinates\":null,\"data_source\":{\"id\":\"4108\"},\"glyph\":{\"id\":\"4111\"},\"group\":null,\"hover_glyph\":{\"id\":\"4114\"},\"muted_glyph\":{\"id\":\"4115\"},\"nonselection_glyph\":{\"id\":\"4112\"},\"selection_glyph\":{\"id\":\"4113\"},\"view\":{\"id\":\"4117\"}},\"id\":\"4116\",\"type\":\"GlyphRenderer\"},{\"attributes\":{\"factors\":[\"DIVULGA\\u00c7\\u00c3O DA ATIVIDADE PARLAMENTAR.\",\"LOCA\\u00c7\\u00c3O OU FRETAMENTO DE VE\\u00cdCULOS AUTOMOTORES\",\"CONSULTORIAS, PESQUISAS E TRABALHOS T\\u00c9CNICOS.\",\"PASSAGEM A\\u00c9REA - SIGEPA\",\"COMBUST\\u00cdVEIS E LUBRIFICANTES.\",\"MANUTEN\\u00c7\\u00c3O DE ESCRIT\\u00d3RIO DE APOIO \\u00c0 ATIVIDADE PARLAMENTAR\",\"PASSAGEM A\\u00c9REA - REEMBOLSO\",\"HOSPEDAGEM ,EXCETO DO PARLAMENTAR NO DISTRITO FEDERAL.\",\"SERVI\\u00c7OS POSTAIS\",\"SERVI\\u00c7O DE T\\u00c1XI, PED\\u00c1GIO E ESTACIONAMENTO\"],\"palette\":[\"#440154\",\"#440255\",\"#440357\",\"#450558\",\"#45065a\",\"#45085b\",\"#46095c\",\"#460b5e\",\"#460c5f\",\"#460e61\"]},\"id\":\"4107\",\"type\":\"CategoricalColorMapper\"},{\"attributes\":{\"tools\":[{\"id\":\"4077\"},{\"id\":\"4094\"},{\"id\":\"4095\"},{\"id\":\"4096\"},{\"id\":\"4097\"},{\"id\":\"4098\"}]},\"id\":\"4100\",\"type\":\"Toolbar\"},{\"attributes\":{\"factors\":[\"DIVULGA\\u00c7\\u00c3O DA ATIVIDADE PARLAMENTAR.\",\"LOCA\\u00c7\\u00c3O OU FRETAMENTO DE VE\\u00cdCULOS AUTOMOTORES\",\"CONSULTORIAS, PESQUISAS E TRABALHOS T\\u00c9CNICOS.\",\"PASSAGEM A\\u00c9REA - SIGEPA\",\"COMBUST\\u00cdVEIS E LUBRIFICANTES.\",\"MANUTEN\\u00c7\\u00c3O DE ESCRIT\\u00d3RIO DE APOIO \\u00c0 ATIVIDADE PARLAMENTAR\",\"PASSAGEM A\\u00c9REA - REEMBOLSO\",\"HOSPEDAGEM ,EXCETO DO PARLAMENTAR NO DISTRITO FEDERAL.\",\"SERVI\\u00c7OS POSTAIS\",\"SERVI\\u00c7O DE T\\u00c1XI, PED\\u00c1GIO E ESTACIONAMENTO\"],\"tags\":[[[\"tipoDespesa\",\"tipoDespesa\",null]]]},\"id\":\"4075\",\"type\":\"FactorRange\"},{\"attributes\":{},\"id\":\"4083\",\"type\":\"CategoricalScale\"},{\"attributes\":{\"fill_color\":{\"field\":\"color\",\"transform\":{\"id\":\"4107\"}},\"hatch_color\":{\"field\":\"color\",\"transform\":{\"id\":\"4107\"}},\"top\":{\"field\":\"valorDocumento\"},\"width\":{\"value\":0.8},\"x\":{\"field\":\"tipoDespesa\"}},\"id\":\"4113\",\"type\":\"VBar\"},{\"attributes\":{\"source\":{\"id\":\"4108\"}},\"id\":\"4117\",\"type\":\"CDSView\"},{\"attributes\":{\"fill_color\":{\"field\":\"color\",\"transform\":{\"id\":\"4107\"}},\"hatch_color\":{\"field\":\"color\",\"transform\":{\"id\":\"4107\"}},\"top\":{\"field\":\"valorDocumento\"},\"width\":{\"value\":0.8},\"x\":{\"field\":\"tipoDespesa\"}},\"id\":\"4114\",\"type\":\"VBar\"},{\"attributes\":{\"children\":[{\"id\":\"4074\"},{\"id\":\"4078\"},{\"id\":\"4144\"}],\"margin\":[0,0,0,0],\"name\":\"Row05455\",\"tags\":[\"embedded\"]},\"id\":\"4073\",\"type\":\"Row\"},{\"attributes\":{\"fill_alpha\":{\"value\":0.2},\"fill_color\":{\"field\":\"color\",\"transform\":{\"id\":\"4107\"}},\"hatch_alpha\":{\"value\":0.2},\"hatch_color\":{\"field\":\"color\",\"transform\":{\"id\":\"4107\"}},\"line_alpha\":{\"value\":0.2},\"top\":{\"field\":\"valorDocumento\"},\"width\":{\"value\":0.8},\"x\":{\"field\":\"tipoDespesa\"}},\"id\":\"4115\",\"type\":\"VBar\"},{\"attributes\":{\"callback\":null,\"renderers\":[{\"id\":\"4116\"}],\"tags\":[\"hv_created\"],\"tooltips\":[[\"tipoDespesa\",\"@{tipoDespesa}\"],[\"valorDocumento\",\"@{valorDocumento}\"]]},\"id\":\"4077\",\"type\":\"HoverTool\"},{\"attributes\":{},\"id\":\"4119\",\"type\":\"CategoricalTickFormatter\"},{\"attributes\":{},\"id\":\"4085\",\"type\":\"LinearScale\"},{\"attributes\":{\"coordinates\":null,\"group\":null,\"text\":\"Despesas por tipo\",\"text_color\":\"black\",\"text_font_size\":\"12pt\"},\"id\":\"4079\",\"type\":\"Title\"},{\"attributes\":{},\"id\":\"4123\",\"type\":\"AllLabels\"},{\"attributes\":{\"end\":332923.6,\"reset_end\":332923.6,\"reset_start\":0.0,\"tags\":[[[\"valorDocumento\",\"valorDocumento\",null]]]},\"id\":\"4076\",\"type\":\"Range1d\"},{\"attributes\":{\"margin\":[5,5,5,5],\"name\":\"HSpacer05459\",\"sizing_mode\":\"stretch_width\"},\"id\":\"4074\",\"type\":\"Spacer\"}],\"root_ids\":[\"4073\"]},\"title\":\"Bokeh Application\",\"version\":\"2.4.2\"}};\n",
       "    var render_items = [{\"docid\":\"8f844240-5f50-4cc8-bec2-982c3be00f0c\",\"root_ids\":[\"4073\"],\"roots\":{\"4073\":\"2a17bb09-e295-452f-8681-6275989a062b\"}}];\n",
       "    root.Bokeh.embed.embed_items_notebook(docs_json, render_items);\n",
       "  }\n",
       "  if (root.Bokeh !== undefined && root.Bokeh.Panel !== undefined) {\n",
       "    embed_document(root);\n",
       "  } else {\n",
       "    var attempts = 0;\n",
       "    var timer = setInterval(function(root) {\n",
       "      if (root.Bokeh !== undefined && root.Bokeh.Panel !== undefined) {\n",
       "        clearInterval(timer);\n",
       "        embed_document(root);\n",
       "      } else if (document.readyState == \"complete\") {\n",
       "        attempts++;\n",
       "        if (attempts > 200) {\n",
       "          clearInterval(timer);\n",
       "          console.log(\"Bokeh: ERROR: Unable to run BokehJS code because BokehJS library is missing\");\n",
       "        }\n",
       "      }\n",
       "    }, 25, root)\n",
       "  }\n",
       "})(window);</script>"
      ],
      "text/plain": [
       ":Bars   [tipoDespesa]   (valorDocumento)"
      ]
     },
     "execution_count": 29,
     "metadata": {
      "application/vnd.holoviews_exec.v0+json": {
       "id": "4073"
      }
     },
     "output_type": "execute_result"
    }
   ],
   "source": [
    "import pandas as pd\n",
    "\n",
    "import hvplot.pandas  # noqa\n",
    "\n",
    "\n",
    "df = pd.read_csv('db_publicdata.csv')\n",
    "df = df.loc[df['nome'] == 'Abílio Santana']\n",
    "df = df[[ 'valorDocumento', 'tipoDespesa']].groupby('tipoDespesa').sum().reset_index()\n",
    "df = df.sort_values(by='valorDocumento', ascending=False)\n",
    "df = df.head(10)\n",
    "\n",
    "\n",
    "\n",
    "\n",
    "pd.options.plotting.backend = 'holoviews'\n",
    "df.hvplot.bar(x='tipoDespesa', y='valorDocumento', text='valorDocumento', title='Despesas por tipo', legend=False, color='tipoDespesa', ylabel='Valor', xlabel='Tipo de despesa')\n",
    "#df.hvplot.bar(x='Year', y='Violent Crime rate', rot=90)"
   ]
  }
 ],
 "metadata": {
  "interpreter": {
   "hash": "09d0951991d0c62d0ae19f950c3965a211d4f11fc6ba4657de90362af9205e4b"
  },
  "kernelspec": {
   "display_name": "Python 3.9.12 64-bit (windows store)",
   "language": "python",
   "name": "python3"
  },
  "language_info": {
   "codemirror_mode": {
    "name": "ipython",
    "version": 3
   },
   "file_extension": ".py",
   "mimetype": "text/x-python",
   "name": "python",
   "nbconvert_exporter": "python",
   "pygments_lexer": "ipython3",
   "version": "3.9.8"
  },
  "orig_nbformat": 4
 },
 "nbformat": 4,
 "nbformat_minor": 2
}
