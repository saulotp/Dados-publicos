{
 "cells": [
  {
   "cell_type": "markdown",
   "metadata": {},
   "source": []
  },
  {
   "cell_type": "code",
   "execution_count": 1,
   "metadata": {},
   "outputs": [],
   "source": [
    "# LIBRARIES\n",
    "import requests\n",
    "import pandas as pd"
   ]
  },
  {
   "cell_type": "code",
   "execution_count": 11,
   "metadata": {},
   "outputs": [],
   "source": [
    "## API URL\n",
    "url = 'https://dadosabertos.camara.leg.br/api/v2/deputados?itens=1000&ordem=ASC&ordenarPor=nome'\n",
    "\n",
    "## Request\n",
    "r = requests.get(url)\n",
    "\n",
    "## create a dataframe\n",
    "df = pd.DataFrame(r.json()['dados'])\n",
    "\n",
    "## create a new dataframe with only the column we need\n",
    "df_id = df['id']\n"
   ]
  },
  {
   "cell_type": "code",
   "execution_count": 48,
   "metadata": {},
   "outputs": [],
   "source": [
    "\n",
    "## lists to store the data and the ids\n",
    "list = []\n",
    "id_list = []\n",
    "\n",
    "## request the data for each id\n",
    "for id in df_id:\n",
    "    url_despezas = 'https://dadosabertos.camara.leg.br/api/v2/deputados/' + str(id) + '/despesas?ano=2022&itens=500&ordem=ASC&ordenarPor=ano'   \n",
    "    r2 = requests.get(url_despezas)\n",
    "    df_despezas = pd.json_normalize(r2.json()['dados'])\n",
    "    \n",
    "    ## counting how many times the ID appears\n",
    "    count = len(r2.json()['dados'])\n",
    "    \n",
    "    ## create a list with the ID and the number of times it appears\n",
    "    for i in range(count):\n",
    "        id_list.append(id)\n",
    "\n",
    "    ## create a list with the data for each ID\n",
    "    list.append(df_despezas)\n",
    "\n",
    "## create a dataframe with the data from the list\n",
    "df_despezastotal = pd.concat(list)\n",
    "\n",
    "## add the ID column to the dataframe\n",
    "df_despezastotal['id'] = id_list"
   ]
  }
 ],
 "metadata": {
  "interpreter": {
   "hash": "09d0951991d0c62d0ae19f950c3965a211d4f11fc6ba4657de90362af9205e4b"
  },
  "kernelspec": {
   "display_name": "Python 3.9.10 64-bit (windows store)",
   "language": "python",
   "name": "python3"
  },
  "language_info": {
   "codemirror_mode": {
    "name": "ipython",
    "version": 3
   },
   "file_extension": ".py",
   "mimetype": "text/x-python",
   "name": "python",
   "nbconvert_exporter": "python",
   "pygments_lexer": "ipython3",
   "version": "3.9.10"
  },
  "orig_nbformat": 4
 },
 "nbformat": 4,
 "nbformat_minor": 2
}
