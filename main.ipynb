{
 "cells": [
  {
   "cell_type": "markdown",
   "metadata": {},
   "source": []
  },
  {
   "cell_type": "code",
   "execution_count": 1,
   "metadata": {},
   "outputs": [],
   "source": [
    "# LIBRARIES\n",
    "import requests\n",
    "import pandas as pd"
   ]
  },
  {
   "cell_type": "code",
   "execution_count": 4,
   "metadata": {},
   "outputs": [],
   "source": [
    "## API URL\n",
    "url = 'https://dadosabertos.camara.leg.br/api/v2/deputados?itens=1000&ordem=ASC&ordenarPor=nome'\n",
    "\n",
    "## Request\n",
    "r = requests.get(url)\n",
    "\n",
    "## create a dataframe\n",
    "df = pd.DataFrame(r.json()['dados'])\n",
    "\n",
    "## create a new dataframe with only the column we need\n",
    "df_id = df['id']\n",
    "df_nome = df['nome']\n",
    "df_partido = df['siglaPartido']\n",
    "df_uf = df['siglaUf']\n",
    "df_urlFoto = df['urlFoto']\n",
    "df_email = df['email']\n"
   ]
  },
  {
   "cell_type": "code",
   "execution_count": 26,
   "metadata": {},
   "outputs": [],
   "source": [
    "df = pd.DataFrame(r.json()['links'])\n",
    "df_links = df['href'][2]\n"
   ]
  },
  {
   "cell_type": "code",
   "execution_count": 27,
   "metadata": {},
   "outputs": [
    {
     "data": {
      "text/plain": [
       "'https://dadosabertos.camara.leg.br/api/v2/deputados?ordem=ASC&ordenarPor=nome&pagina=1&itens=1000'"
      ]
     },
     "execution_count": 27,
     "metadata": {},
     "output_type": "execute_result"
    }
   ],
   "source": [
    "df_links"
   ]
  },
  {
   "cell_type": "code",
   "execution_count": 15,
   "metadata": {},
   "outputs": [],
   "source": [
    "\n",
    "## lists to store the data and the ids\n",
    "list = []\n",
    "id_list = []\n",
    "name_list = []\n",
    "partido_list = []\n",
    "uf_list = []\n",
    "urlFoto_list = []\n",
    "email_list = []\n",
    "\n",
    "count = 0\n",
    "\n",
    "## request the data for each id\n",
    "for id in df['id']:\n",
    "    url_despezas = 'https://dadosabertos.camara.leg.br/api/v2/deputados/' + str(id) + '/despesas?ano=2022&itens=500&ordem=ASC&ordenarPor=ano'   \n",
    "    r2 = requests.get(url_despezas)\n",
    "    df_despezas = pd.json_normalize(r2.json()['dados'])\n",
    "    \n",
    "    ## counting how many times the ID appears\n",
    "    count_data = len(r2.json()['dados'])\n",
    "    count += 1\n",
    "    \n",
    "    ## create a list with the ID and the number of times it appears\n",
    "    for i in range(count_data):\n",
    "        id_list.append(id)\n",
    "        name_list.append(df['nome'][count-1])\n",
    "        partido_list.append(df['siglaPartido'][count-1])\n",
    "        uf_list.append(df['siglaUf'][count-1])\n",
    "        urlFoto_list.append(df['urlFoto'][count-1])\n",
    "        email_list.append(df['email'][count-1])\n",
    "         \n",
    "        \n",
    "    ## create a list with the data for each ID\n",
    "    list.append(df_despezas)\n",
    "\n",
    "## create a dataframe with the data from the list\n",
    "df_despezastotal = pd.concat(list)\n",
    "\n",
    "## add the ID column to the dataframe\n",
    "df_despezastotal['id'] = id_list\n",
    "df_despezastotal['nome'] = name_list\n",
    "df_despezastotal['siglaPartido'] = partido_list\n",
    "df_despezastotal['siglaUf'] = uf_list\n",
    "df_despezastotal['urlFoto'] = urlFoto_list\n",
    "df_despezastotal['email'] = email_list\n"
   ]
  },
  {
   "cell_type": "code",
   "execution_count": null,
   "metadata": {},
   "outputs": [],
   "source": []
  }
 ],
 "metadata": {
  "interpreter": {
   "hash": "09d0951991d0c62d0ae19f950c3965a211d4f11fc6ba4657de90362af9205e4b"
  },
  "kernelspec": {
   "display_name": "Python 3.9.10 64-bit (windows store)",
   "language": "python",
   "name": "python3"
  },
  "language_info": {
   "codemirror_mode": {
    "name": "ipython",
    "version": 3
   },
   "file_extension": ".py",
   "mimetype": "text/x-python",
   "name": "python",
   "nbconvert_exporter": "python",
   "pygments_lexer": "ipython3",
   "version": "3.9.10"
  },
  "orig_nbformat": 4
 },
 "nbformat": 4,
 "nbformat_minor": 2
}
