{
 "cells": [
  {
   "cell_type": "code",
   "execution_count": 9,
   "metadata": {},
   "outputs": [],
   "source": [
    "# Library to connect to Oracle\n",
    "import cx_Oracle\n",
    "\n",
    "# patch to instantclient_21_3\n",
    "#cx_Oracle.init_oracle_client(lib_dir=r\"C:\\\\oracle\\\\instantclient_21_3\")\n",
    "\n",
    "\n",
    "# Variables to connect to Oracle\n",
    "username = \"ADMIN\"\n",
    "password = \"Q1w2e3r4t5y6u7i8o9p0\"\n",
    "dsn = '(description= (retry_count=20)(retry_delay=3)(address=(protocol=tcps)(port=1522)(host=adb.sa-vinhedo-1.oraclecloud.com))(connect_data=(service_name=g19cc7d208b76c0_adbarticle01_high.adb.oraclecloud.com))(security=(ssl_server_cert_dn=\"CN=adb.sa-vinhedo-1.oraclecloud.com, O=Oracle Corporation, L=Redwood City, ST=California, C=US\")))'\n",
    "\n",
    "# Connect to Oracle\n",
    "connection = cx_Oracle.connect(user=username, password=password, dsn=dsn)\n",
    "\n",
    "# Drop table if it exists\n",
    "cursor.execute(\"\"\"begin\n",
    "\t\t\t        execute immediate 'drop table data_tab';\n",
    "\t\t\t        exception when others then if sqlcode <> -942 then raise; end if;\n",
    "\t\t            end;\"\"\")\n",
    "\n",
    "#Create table\n",
    "cursor.execute(\"\"\"create table data_tab(\n",
    "                                        ano INT, \n",
    "                                        mes INT, \n",
    "                                        id INT, \n",
    "                                        nome VARCHAR(255), \n",
    "                                        siglaPartido VARCHAR(255), \n",
    "                                        siglaUf VARCHAR(5), \n",
    "                                        urlFoto VARCHAR(255), \n",
    "                                        email VARCHAR(255), \n",
    "                                        tipoDespesa VARCHAR(255), \n",
    "                                        dataDocumento VARCHAR(255), \n",
    "                                        valorDocumento INT, \n",
    "                                        urlDocumento VARCHAR(255), \n",
    "                                        nomeFornecedor VARCHAR(255), \n",
    "                                        cnpjCpfFornecedor VARCHAR(255))\"\"\")\n",
    "\n",
    "connection.commit()\n"
   ]
  },
  {
   "cell_type": "code",
   "execution_count": null,
   "metadata": {},
   "outputs": [],
   "source": [
    "# library to insert data to database\n",
    "from sqlalchemy import create_engine\n",
    "import pandas as pd\n",
    "\n",
    "# import data from csv\n",
    "main = pd.read_csv('expenses.csv' , sep=',')\n",
    "\n",
    "# Variables to connect to Oracle\n",
    "username = \"ADMIN\"\n",
    "password=\"topsecret123\"\n",
    "dsn = '(description= (retry_count=20)(retry_delay=3)(address=(protocol=tcps)(port=1522)(host=adb.sa-vinhedo-1.oraclecloud.com))(connect_data=(service_name=g19cc7d208b76c0_adbarticle01_high.adb.oraclecloud.com))(security=(ssl_server_cert_dn=\"CN=adb.sa-vinhedo-1.oraclecloud.com, O=Oracle Corporation, L=Redwood City, ST=California, C=US\")))'\n",
    "\n",
    "# create engine\n",
    "engine = create_engine(f'oracle://{username}:{password}@{dsn}/?encoding=UTF-8&nencoding=UTF-8', max_identifier_length=128)\n",
    "\n",
    "# insert dataframe into oracle database \n",
    "main.to_sql('data_tab', con = engine, if_exists = 'append', chunksize=1000) \n",
    "      "
   ]
  }
 ],
 "metadata": {
  "interpreter": {
   "hash": "39c5207e0ce1341ad898502cc592606dcf3036f0772b83709aba2273e6498e4a"
  },
  "kernelspec": {
   "display_name": "Python 3.9.13 64-bit",
   "language": "python",
   "name": "python3"
  },
  "language_info": {
   "codemirror_mode": {
    "name": "ipython",
    "version": 3
   },
   "file_extension": ".py",
   "mimetype": "text/x-python",
   "name": "python",
   "nbconvert_exporter": "python",
   "pygments_lexer": "ipython3",
   "version": "3.9.13"
  },
  "orig_nbformat": 4
 },
 "nbformat": 4,
 "nbformat_minor": 2
}
